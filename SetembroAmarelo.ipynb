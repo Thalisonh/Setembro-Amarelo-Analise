{
  "nbformat": 4,
  "nbformat_minor": 0,
  "metadata": {
    "colab": {
      "name": "SetembroAmarelo.ipynb",
      "provenance": [],
      "collapsed_sections": [],
      "mount_file_id": "1gpLt2BxtfQVoSoiu5okGIidemtKpt6Md",
      "authorship_tag": "ABX9TyPxEiGBAkyVsYFgORkT/ZG+",
      "include_colab_link": true
    },
    "kernelspec": {
      "name": "python3",
      "display_name": "Python 3"
    }
  },
  "cells": [
    {
      "cell_type": "markdown",
      "metadata": {
        "id": "view-in-github",
        "colab_type": "text"
      },
      "source": [
        "<a href=\"https://colab.research.google.com/github/Thalisonh/Setembro-Amarelo-Analise/blob/master/SetembroAmarelo.ipynb\" target=\"_parent\"><img src=\"https://colab.research.google.com/assets/colab-badge.svg\" alt=\"Open In Colab\"/></a>"
      ]
    },
    {
      "cell_type": "markdown",
      "metadata": {
        "id": "Po9Y8PQ_IS5m",
        "colab_type": "text"
      },
      "source": [
        "#**Setembro Amarelo**\n",
        "###A analises de dados sobre o suicídio como forma de conscientizar sobre um problema que assola silenciosamente à sociedade. Dar visibilidade ao problema é o primeiro passo para conseguir reverter a situação, esse é o principal objetivo dessa analise, conscientizar e mostrar o tamanho desse problema.\n",
        "\n",
        "###Setembro amarelo é o mês de prevenção do suicídio, esse projeto é uma forma enxergar e dar visibilidade a um tema tão importante, e uma forma de mostrar como a analises de dados pode ser e deve ser feita com qualquer tipo de dados a fim de resolver problemas da vida real."
      ]
    },
    {
      "cell_type": "markdown",
      "metadata": {
        "id": "3xMFG9H1iFUH",
        "colab_type": "text"
      },
      "source": [
        "#**Sobre o Dataset**\n",
        "###O conjunto de dados foi extraído de quatro outros conjuntos de dados vinculados por tempo e país, foi construído para encontrar sinais correlacionados ao aumento das taxas de suicídio entre um conjunto diferente de pessoas.\n",
        "\n",
        "###Referencias:\n",
        "\n",
        "###Conjunto dos dados prontos:\n",
        "###https://www.kaggle.com/russellyates88/suicide-rates-overview-1985-to-2016/notebooks\n",
        "\n",
        "###United Nations Development Program. (2018). Human development index (HDI). Retrieved from [http://hdr.undp.org/en/indicators/137506](http://hdr.undp.org/en/indicators/137506)\n",
        "\n",
        "###World Bank. (2018). World development indicators: GDP (current US$) by country:1985 to 2016. Retrieved from http://databank.worldbank.org/data/source/world-development-indicators#\n",
        "###http://databank.worldbank.org/data/source/world-development-indicators#\n",
        "\n",
        "###[Szamil]. (2017). Suicide in the Twenty-First Century [dataset]. Retrieved from [https://www.kaggle.com/szamil/suicide-in-the-twenty-first-century/notebook](https://www.kaggle.com/szamil/suicide-in-the-twenty-first-century/notebook)\n",
        "\n",
        "###World Health Organization. (2018). Suicide prevention. Retrieved from [http://www.who.int/mental_health/suicide-prevention/en/](http://www.who.int/mental_health/suicide-prevention/en/)"
      ]
    },
    {
      "cell_type": "markdown",
      "metadata": {
        "id": "fnvXlyDZi7TF",
        "colab_type": "text"
      },
      "source": [
        "#**Variáveis**\n",
        "O arquivo .csv está separado em 12 colunas, retirados dos datasets acima.\n",
        "\n",
        "**country**: país de origem do dados\n",
        "\n",
        "**year**: ano de registro dos dados (1987 - 2016)\n",
        "\n",
        "**sex**: sexo do registro (Masculino - Feminino)\n",
        "\n",
        "**age**: faixa etária\n",
        "\n",
        "- 5-14 anos\n",
        "- 15-24 anos\n",
        "- 25-34 anos\n",
        "- 35-54 anos\n",
        "- 55-74 anos\n",
        "- 75+ anos\n",
        "\n",
        "**suicides_no:** número de suicídios\n",
        "\n",
        "**population:** população para o grupo\n",
        "\n",
        "**suicides/100k pop:** número de suicídios por 100 mil habitantes\n",
        "\n",
        "**country_year:** identificador contendo country + year\n",
        "\n",
        "**HDI for year:** Índice de Desenvolvimento Humano (IDH) para o ano\n",
        "\n",
        "**gdp_for_year:** Produto Interno Bruto (PIB) para o ano\n",
        "\n",
        "**gdp_per_capita:** Produto Interno Bruto (PIB) per capita"
      ]
    },
    {
      "cell_type": "markdown",
      "metadata": {
        "id": "znWp2nUzlO6e",
        "colab_type": "text"
      },
      "source": [
        "#**Iniciando a Análise**\n",
        "###O conjunto de dados contem 27820 linhas e 12 colunas. De inicio é preciso visualizar o tamanho dos dados e a forma que eles se encontram, como forma de boas praticas é preciso fazer uma limpeza e uma adequação dos dados para que as duas variáveis comparativas tenham a mesma quantidade de valores preenchidos. \n",
        "\n",
        "###Após a limpeza iniciando criando duas variáveis que contem os dados do Brasil e do Mundo para facilitar a comparação entre elas."
      ]
    },
    {
      "cell_type": "code",
      "metadata": {
        "id": "g1mhLlGWZWdF",
        "colab_type": "code",
        "colab": {
          "base_uri": "https://localhost:8080/",
          "height": 51
        },
        "outputId": "b29cd470-325e-4f76-edc9-a62eaff2ed41"
      },
      "source": [
        "#importando bibliotecas\n",
        "import pandas as pd\n",
        "import numpy as np\n",
        "import matplotlib.pyplot as plt\n",
        "import seaborn as sns"
      ],
      "execution_count": null,
      "outputs": [
        {
          "output_type": "stream",
          "text": [
            "/usr/local/lib/python3.6/dist-packages/statsmodels/tools/_testing.py:19: FutureWarning: pandas.util.testing is deprecated. Use the functions in the public API at pandas.testing instead.\n",
            "  import pandas.util.testing as tm\n"
          ],
          "name": "stderr"
        }
      ]
    },
    {
      "cell_type": "code",
      "metadata": {
        "id": "S1Ys8vrBZwmX",
        "colab_type": "code",
        "colab": {}
      },
      "source": [
        "#importando arquivo csv\n",
        "df = pd.read_csv('/content/drive/My Drive/Colab Notebooks/setembroAmarelo/master.csv', ',')"
      ],
      "execution_count": null,
      "outputs": []
    },
    {
      "cell_type": "code",
      "metadata": {
        "id": "3mTbONZgLOKS",
        "colab_type": "code",
        "colab": {}
      },
      "source": [
        "#removendo variaveis com taxa de suicidios 0\n",
        "indexNames = df[df['suicides/100k pop'] == 0].index.values\n",
        "df = df.drop(indexNames)"
      ],
      "execution_count": null,
      "outputs": []
    },
    {
      "cell_type": "code",
      "metadata": {
        "id": "gH8C4Js1gRuj",
        "colab_type": "code",
        "colab": {
          "base_uri": "https://localhost:8080/",
          "height": 204
        },
        "outputId": "2de8b50e-e5d8-4032-8e25-51ff9eb117b1"
      },
      "source": [
        "#visualizando os primeiros 5 elementos do DataFrame\n",
        "df.head()"
      ],
      "execution_count": null,
      "outputs": [
        {
          "output_type": "execute_result",
          "data": {
            "text/html": [
              "<div>\n",
              "<style scoped>\n",
              "    .dataframe tbody tr th:only-of-type {\n",
              "        vertical-align: middle;\n",
              "    }\n",
              "\n",
              "    .dataframe tbody tr th {\n",
              "        vertical-align: top;\n",
              "    }\n",
              "\n",
              "    .dataframe thead th {\n",
              "        text-align: right;\n",
              "    }\n",
              "</style>\n",
              "<table border=\"1\" class=\"dataframe\">\n",
              "  <thead>\n",
              "    <tr style=\"text-align: right;\">\n",
              "      <th></th>\n",
              "      <th>country</th>\n",
              "      <th>year</th>\n",
              "      <th>sex</th>\n",
              "      <th>age</th>\n",
              "      <th>suicides_no</th>\n",
              "      <th>population</th>\n",
              "      <th>suicides/100k pop</th>\n",
              "      <th>country-year</th>\n",
              "      <th>HDI for year</th>\n",
              "      <th>gdp_for_year ($)</th>\n",
              "      <th>gdp_per_capita ($)</th>\n",
              "      <th>generation</th>\n",
              "    </tr>\n",
              "  </thead>\n",
              "  <tbody>\n",
              "    <tr>\n",
              "      <th>0</th>\n",
              "      <td>Albania</td>\n",
              "      <td>1987</td>\n",
              "      <td>male</td>\n",
              "      <td>15-24 years</td>\n",
              "      <td>21</td>\n",
              "      <td>312900</td>\n",
              "      <td>6.71</td>\n",
              "      <td>Albania1987</td>\n",
              "      <td>NaN</td>\n",
              "      <td>2,156,624,900</td>\n",
              "      <td>796</td>\n",
              "      <td>Generation X</td>\n",
              "    </tr>\n",
              "    <tr>\n",
              "      <th>1</th>\n",
              "      <td>Albania</td>\n",
              "      <td>1987</td>\n",
              "      <td>male</td>\n",
              "      <td>35-54 years</td>\n",
              "      <td>16</td>\n",
              "      <td>308000</td>\n",
              "      <td>5.19</td>\n",
              "      <td>Albania1987</td>\n",
              "      <td>NaN</td>\n",
              "      <td>2,156,624,900</td>\n",
              "      <td>796</td>\n",
              "      <td>Silent</td>\n",
              "    </tr>\n",
              "    <tr>\n",
              "      <th>2</th>\n",
              "      <td>Albania</td>\n",
              "      <td>1987</td>\n",
              "      <td>female</td>\n",
              "      <td>15-24 years</td>\n",
              "      <td>14</td>\n",
              "      <td>289700</td>\n",
              "      <td>4.83</td>\n",
              "      <td>Albania1987</td>\n",
              "      <td>NaN</td>\n",
              "      <td>2,156,624,900</td>\n",
              "      <td>796</td>\n",
              "      <td>Generation X</td>\n",
              "    </tr>\n",
              "    <tr>\n",
              "      <th>3</th>\n",
              "      <td>Albania</td>\n",
              "      <td>1987</td>\n",
              "      <td>male</td>\n",
              "      <td>75+ years</td>\n",
              "      <td>1</td>\n",
              "      <td>21800</td>\n",
              "      <td>4.59</td>\n",
              "      <td>Albania1987</td>\n",
              "      <td>NaN</td>\n",
              "      <td>2,156,624,900</td>\n",
              "      <td>796</td>\n",
              "      <td>G.I. Generation</td>\n",
              "    </tr>\n",
              "    <tr>\n",
              "      <th>4</th>\n",
              "      <td>Albania</td>\n",
              "      <td>1987</td>\n",
              "      <td>male</td>\n",
              "      <td>25-34 years</td>\n",
              "      <td>9</td>\n",
              "      <td>274300</td>\n",
              "      <td>3.28</td>\n",
              "      <td>Albania1987</td>\n",
              "      <td>NaN</td>\n",
              "      <td>2,156,624,900</td>\n",
              "      <td>796</td>\n",
              "      <td>Boomers</td>\n",
              "    </tr>\n",
              "  </tbody>\n",
              "</table>\n",
              "</div>"
            ],
            "text/plain": [
              "   country  year  ... gdp_per_capita ($)       generation\n",
              "0  Albania  1987  ...                796     Generation X\n",
              "1  Albania  1987  ...                796           Silent\n",
              "2  Albania  1987  ...                796     Generation X\n",
              "3  Albania  1987  ...                796  G.I. Generation\n",
              "4  Albania  1987  ...                796          Boomers\n",
              "\n",
              "[5 rows x 12 columns]"
            ]
          },
          "metadata": {
            "tags": []
          },
          "execution_count": 4
        }
      ]
    },
    {
      "cell_type": "code",
      "metadata": {
        "id": "hQxD_SsxSk_G",
        "colab_type": "code",
        "colab": {
          "base_uri": "https://localhost:8080/",
          "height": 204
        },
        "outputId": "1fe90844-4048-43b0-e3c1-030d4c8c69a3"
      },
      "source": [
        "#vizualizando os ultimos 5 elementos do DataFrame\n",
        "df.tail()"
      ],
      "execution_count": null,
      "outputs": [
        {
          "output_type": "execute_result",
          "data": {
            "text/html": [
              "<div>\n",
              "<style scoped>\n",
              "    .dataframe tbody tr th:only-of-type {\n",
              "        vertical-align: middle;\n",
              "    }\n",
              "\n",
              "    .dataframe tbody tr th {\n",
              "        vertical-align: top;\n",
              "    }\n",
              "\n",
              "    .dataframe thead th {\n",
              "        text-align: right;\n",
              "    }\n",
              "</style>\n",
              "<table border=\"1\" class=\"dataframe\">\n",
              "  <thead>\n",
              "    <tr style=\"text-align: right;\">\n",
              "      <th></th>\n",
              "      <th>country</th>\n",
              "      <th>year</th>\n",
              "      <th>sex</th>\n",
              "      <th>age</th>\n",
              "      <th>suicides_no</th>\n",
              "      <th>population</th>\n",
              "      <th>suicides/100k pop</th>\n",
              "      <th>country-year</th>\n",
              "      <th>HDI for year</th>\n",
              "      <th>gdp_for_year ($)</th>\n",
              "      <th>gdp_per_capita ($)</th>\n",
              "      <th>generation</th>\n",
              "    </tr>\n",
              "  </thead>\n",
              "  <tbody>\n",
              "    <tr>\n",
              "      <th>27815</th>\n",
              "      <td>Uzbekistan</td>\n",
              "      <td>2014</td>\n",
              "      <td>female</td>\n",
              "      <td>35-54 years</td>\n",
              "      <td>107</td>\n",
              "      <td>3620833</td>\n",
              "      <td>2.96</td>\n",
              "      <td>Uzbekistan2014</td>\n",
              "      <td>0.675</td>\n",
              "      <td>63,067,077,179</td>\n",
              "      <td>2309</td>\n",
              "      <td>Generation X</td>\n",
              "    </tr>\n",
              "    <tr>\n",
              "      <th>27816</th>\n",
              "      <td>Uzbekistan</td>\n",
              "      <td>2014</td>\n",
              "      <td>female</td>\n",
              "      <td>75+ years</td>\n",
              "      <td>9</td>\n",
              "      <td>348465</td>\n",
              "      <td>2.58</td>\n",
              "      <td>Uzbekistan2014</td>\n",
              "      <td>0.675</td>\n",
              "      <td>63,067,077,179</td>\n",
              "      <td>2309</td>\n",
              "      <td>Silent</td>\n",
              "    </tr>\n",
              "    <tr>\n",
              "      <th>27817</th>\n",
              "      <td>Uzbekistan</td>\n",
              "      <td>2014</td>\n",
              "      <td>male</td>\n",
              "      <td>5-14 years</td>\n",
              "      <td>60</td>\n",
              "      <td>2762158</td>\n",
              "      <td>2.17</td>\n",
              "      <td>Uzbekistan2014</td>\n",
              "      <td>0.675</td>\n",
              "      <td>63,067,077,179</td>\n",
              "      <td>2309</td>\n",
              "      <td>Generation Z</td>\n",
              "    </tr>\n",
              "    <tr>\n",
              "      <th>27818</th>\n",
              "      <td>Uzbekistan</td>\n",
              "      <td>2014</td>\n",
              "      <td>female</td>\n",
              "      <td>5-14 years</td>\n",
              "      <td>44</td>\n",
              "      <td>2631600</td>\n",
              "      <td>1.67</td>\n",
              "      <td>Uzbekistan2014</td>\n",
              "      <td>0.675</td>\n",
              "      <td>63,067,077,179</td>\n",
              "      <td>2309</td>\n",
              "      <td>Generation Z</td>\n",
              "    </tr>\n",
              "    <tr>\n",
              "      <th>27819</th>\n",
              "      <td>Uzbekistan</td>\n",
              "      <td>2014</td>\n",
              "      <td>female</td>\n",
              "      <td>55-74 years</td>\n",
              "      <td>21</td>\n",
              "      <td>1438935</td>\n",
              "      <td>1.46</td>\n",
              "      <td>Uzbekistan2014</td>\n",
              "      <td>0.675</td>\n",
              "      <td>63,067,077,179</td>\n",
              "      <td>2309</td>\n",
              "      <td>Boomers</td>\n",
              "    </tr>\n",
              "  </tbody>\n",
              "</table>\n",
              "</div>"
            ],
            "text/plain": [
              "          country  year  ... gdp_per_capita ($)    generation\n",
              "27815  Uzbekistan  2014  ...               2309  Generation X\n",
              "27816  Uzbekistan  2014  ...               2309        Silent\n",
              "27817  Uzbekistan  2014  ...               2309  Generation Z\n",
              "27818  Uzbekistan  2014  ...               2309  Generation Z\n",
              "27819  Uzbekistan  2014  ...               2309       Boomers\n",
              "\n",
              "[5 rows x 12 columns]"
            ]
          },
          "metadata": {
            "tags": []
          },
          "execution_count": 5
        }
      ]
    },
    {
      "cell_type": "code",
      "metadata": {
        "id": "p7QfHKkwrbS1",
        "colab_type": "code",
        "colab": {
          "base_uri": "https://localhost:8080/",
          "height": 238
        },
        "outputId": "202ca064-28ec-4f58-dab5-b63eab00c93b"
      },
      "source": [
        "#visualizando o tipo de dados das colunas\n",
        "df.dtypes"
      ],
      "execution_count": null,
      "outputs": [
        {
          "output_type": "execute_result",
          "data": {
            "text/plain": [
              "country                object\n",
              "year                    int64\n",
              "sex                    object\n",
              "age                    object\n",
              "suicides_no             int64\n",
              "population              int64\n",
              "suicides/100k pop     float64\n",
              "country-year           object\n",
              "HDI for year          float64\n",
              " gdp_for_year ($)      object\n",
              "gdp_per_capita ($)      int64\n",
              "generation             object\n",
              "dtype: object"
            ]
          },
          "metadata": {
            "tags": []
          },
          "execution_count": 6
        }
      ]
    },
    {
      "cell_type": "code",
      "metadata": {
        "id": "pe9UFAX7nMyD",
        "colab_type": "code",
        "colab": {}
      },
      "source": [
        "#fazendo uma copia do DataFrame apenas com dados brasileiros\n",
        "df_brasil = df[df.country == \"Brazil\"].copy()"
      ],
      "execution_count": null,
      "outputs": []
    },
    {
      "cell_type": "code",
      "metadata": {
        "id": "oJttmDPqj477",
        "colab_type": "code",
        "colab": {
          "base_uri": "https://localhost:8080/",
          "height": 204
        },
        "outputId": "ebfa88ab-c6c6-4673-9acd-f098dde04474"
      },
      "source": [
        "#visualizando os primeiros elementos do DataFrame Brasil\n",
        "df_brasil.head()"
      ],
      "execution_count": null,
      "outputs": [
        {
          "output_type": "execute_result",
          "data": {
            "text/html": [
              "<div>\n",
              "<style scoped>\n",
              "    .dataframe tbody tr th:only-of-type {\n",
              "        vertical-align: middle;\n",
              "    }\n",
              "\n",
              "    .dataframe tbody tr th {\n",
              "        vertical-align: top;\n",
              "    }\n",
              "\n",
              "    .dataframe thead th {\n",
              "        text-align: right;\n",
              "    }\n",
              "</style>\n",
              "<table border=\"1\" class=\"dataframe\">\n",
              "  <thead>\n",
              "    <tr style=\"text-align: right;\">\n",
              "      <th></th>\n",
              "      <th>country</th>\n",
              "      <th>year</th>\n",
              "      <th>sex</th>\n",
              "      <th>age</th>\n",
              "      <th>suicides_no</th>\n",
              "      <th>population</th>\n",
              "      <th>suicides/100k pop</th>\n",
              "      <th>country-year</th>\n",
              "      <th>HDI for year</th>\n",
              "      <th>gdp_for_year ($)</th>\n",
              "      <th>gdp_per_capita ($)</th>\n",
              "      <th>generation</th>\n",
              "    </tr>\n",
              "  </thead>\n",
              "  <tbody>\n",
              "    <tr>\n",
              "      <th>4172</th>\n",
              "      <td>Brazil</td>\n",
              "      <td>1985</td>\n",
              "      <td>male</td>\n",
              "      <td>75+ years</td>\n",
              "      <td>129</td>\n",
              "      <td>840300</td>\n",
              "      <td>15.35</td>\n",
              "      <td>Brazil1985</td>\n",
              "      <td>0.576</td>\n",
              "      <td>222,942,790,435</td>\n",
              "      <td>1898</td>\n",
              "      <td>G.I. Generation</td>\n",
              "    </tr>\n",
              "    <tr>\n",
              "      <th>4173</th>\n",
              "      <td>Brazil</td>\n",
              "      <td>1985</td>\n",
              "      <td>male</td>\n",
              "      <td>55-74 years</td>\n",
              "      <td>535</td>\n",
              "      <td>5364900</td>\n",
              "      <td>9.97</td>\n",
              "      <td>Brazil1985</td>\n",
              "      <td>0.576</td>\n",
              "      <td>222,942,790,435</td>\n",
              "      <td>1898</td>\n",
              "      <td>G.I. Generation</td>\n",
              "    </tr>\n",
              "    <tr>\n",
              "      <th>4174</th>\n",
              "      <td>Brazil</td>\n",
              "      <td>1985</td>\n",
              "      <td>male</td>\n",
              "      <td>35-54 years</td>\n",
              "      <td>1011</td>\n",
              "      <td>11986300</td>\n",
              "      <td>8.43</td>\n",
              "      <td>Brazil1985</td>\n",
              "      <td>0.576</td>\n",
              "      <td>222,942,790,435</td>\n",
              "      <td>1898</td>\n",
              "      <td>Silent</td>\n",
              "    </tr>\n",
              "    <tr>\n",
              "      <th>4175</th>\n",
              "      <td>Brazil</td>\n",
              "      <td>1985</td>\n",
              "      <td>male</td>\n",
              "      <td>25-34 years</td>\n",
              "      <td>791</td>\n",
              "      <td>10762900</td>\n",
              "      <td>7.35</td>\n",
              "      <td>Brazil1985</td>\n",
              "      <td>0.576</td>\n",
              "      <td>222,942,790,435</td>\n",
              "      <td>1898</td>\n",
              "      <td>Boomers</td>\n",
              "    </tr>\n",
              "    <tr>\n",
              "      <th>4176</th>\n",
              "      <td>Brazil</td>\n",
              "      <td>1985</td>\n",
              "      <td>male</td>\n",
              "      <td>15-24 years</td>\n",
              "      <td>661</td>\n",
              "      <td>13834000</td>\n",
              "      <td>4.78</td>\n",
              "      <td>Brazil1985</td>\n",
              "      <td>0.576</td>\n",
              "      <td>222,942,790,435</td>\n",
              "      <td>1898</td>\n",
              "      <td>Generation X</td>\n",
              "    </tr>\n",
              "  </tbody>\n",
              "</table>\n",
              "</div>"
            ],
            "text/plain": [
              "     country  year  ... gdp_per_capita ($)       generation\n",
              "4172  Brazil  1985  ...               1898  G.I. Generation\n",
              "4173  Brazil  1985  ...               1898  G.I. Generation\n",
              "4174  Brazil  1985  ...               1898           Silent\n",
              "4175  Brazil  1985  ...               1898          Boomers\n",
              "4176  Brazil  1985  ...               1898     Generation X\n",
              "\n",
              "[5 rows x 12 columns]"
            ]
          },
          "metadata": {
            "tags": []
          },
          "execution_count": 8
        }
      ]
    },
    {
      "cell_type": "code",
      "metadata": {
        "id": "kNCDV--1TBmJ",
        "colab_type": "code",
        "colab": {
          "base_uri": "https://localhost:8080/",
          "height": 204
        },
        "outputId": "3cdcab37-1ba3-48fa-e3ac-699d9f563d61"
      },
      "source": [
        "#visualizando os ultimos elementos do DataFrame Brasil\n",
        "df_brasil.tail()"
      ],
      "execution_count": null,
      "outputs": [
        {
          "output_type": "execute_result",
          "data": {
            "text/html": [
              "<div>\n",
              "<style scoped>\n",
              "    .dataframe tbody tr th:only-of-type {\n",
              "        vertical-align: middle;\n",
              "    }\n",
              "\n",
              "    .dataframe tbody tr th {\n",
              "        vertical-align: top;\n",
              "    }\n",
              "\n",
              "    .dataframe thead th {\n",
              "        text-align: right;\n",
              "    }\n",
              "</style>\n",
              "<table border=\"1\" class=\"dataframe\">\n",
              "  <thead>\n",
              "    <tr style=\"text-align: right;\">\n",
              "      <th></th>\n",
              "      <th>country</th>\n",
              "      <th>year</th>\n",
              "      <th>sex</th>\n",
              "      <th>age</th>\n",
              "      <th>suicides_no</th>\n",
              "      <th>population</th>\n",
              "      <th>suicides/100k pop</th>\n",
              "      <th>country-year</th>\n",
              "      <th>HDI for year</th>\n",
              "      <th>gdp_for_year ($)</th>\n",
              "      <th>gdp_per_capita ($)</th>\n",
              "      <th>generation</th>\n",
              "    </tr>\n",
              "  </thead>\n",
              "  <tbody>\n",
              "    <tr>\n",
              "      <th>4539</th>\n",
              "      <td>Brazil</td>\n",
              "      <td>2015</td>\n",
              "      <td>female</td>\n",
              "      <td>25-34 years</td>\n",
              "      <td>466</td>\n",
              "      <td>17546090</td>\n",
              "      <td>2.66</td>\n",
              "      <td>Brazil2015</td>\n",
              "      <td>NaN</td>\n",
              "      <td>1,802,214,373,741</td>\n",
              "      <td>9431</td>\n",
              "      <td>Millenials</td>\n",
              "    </tr>\n",
              "    <tr>\n",
              "      <th>4540</th>\n",
              "      <td>Brazil</td>\n",
              "      <td>2015</td>\n",
              "      <td>female</td>\n",
              "      <td>75+ years</td>\n",
              "      <td>89</td>\n",
              "      <td>3802086</td>\n",
              "      <td>2.34</td>\n",
              "      <td>Brazil2015</td>\n",
              "      <td>NaN</td>\n",
              "      <td>1,802,214,373,741</td>\n",
              "      <td>9431</td>\n",
              "      <td>Silent</td>\n",
              "    </tr>\n",
              "    <tr>\n",
              "      <th>4541</th>\n",
              "      <td>Brazil</td>\n",
              "      <td>2015</td>\n",
              "      <td>female</td>\n",
              "      <td>15-24 years</td>\n",
              "      <td>397</td>\n",
              "      <td>17047218</td>\n",
              "      <td>2.33</td>\n",
              "      <td>Brazil2015</td>\n",
              "      <td>NaN</td>\n",
              "      <td>1,802,214,373,741</td>\n",
              "      <td>9431</td>\n",
              "      <td>Millenials</td>\n",
              "    </tr>\n",
              "    <tr>\n",
              "      <th>4542</th>\n",
              "      <td>Brazil</td>\n",
              "      <td>2015</td>\n",
              "      <td>male</td>\n",
              "      <td>5-14 years</td>\n",
              "      <td>79</td>\n",
              "      <td>16057040</td>\n",
              "      <td>0.49</td>\n",
              "      <td>Brazil2015</td>\n",
              "      <td>NaN</td>\n",
              "      <td>1,802,214,373,741</td>\n",
              "      <td>9431</td>\n",
              "      <td>Generation Z</td>\n",
              "    </tr>\n",
              "    <tr>\n",
              "      <th>4543</th>\n",
              "      <td>Brazil</td>\n",
              "      <td>2015</td>\n",
              "      <td>female</td>\n",
              "      <td>5-14 years</td>\n",
              "      <td>56</td>\n",
              "      <td>15430579</td>\n",
              "      <td>0.36</td>\n",
              "      <td>Brazil2015</td>\n",
              "      <td>NaN</td>\n",
              "      <td>1,802,214,373,741</td>\n",
              "      <td>9431</td>\n",
              "      <td>Generation Z</td>\n",
              "    </tr>\n",
              "  </tbody>\n",
              "</table>\n",
              "</div>"
            ],
            "text/plain": [
              "     country  year     sex  ...  gdp_for_year ($)   gdp_per_capita ($)    generation\n",
              "4539  Brazil  2015  female  ...  1,802,214,373,741                9431    Millenials\n",
              "4540  Brazil  2015  female  ...  1,802,214,373,741                9431        Silent\n",
              "4541  Brazil  2015  female  ...  1,802,214,373,741                9431    Millenials\n",
              "4542  Brazil  2015    male  ...  1,802,214,373,741                9431  Generation Z\n",
              "4543  Brazil  2015  female  ...  1,802,214,373,741                9431  Generation Z\n",
              "\n",
              "[5 rows x 12 columns]"
            ]
          },
          "metadata": {
            "tags": []
          },
          "execution_count": 9
        }
      ]
    },
    {
      "cell_type": "code",
      "metadata": {
        "id": "XSC5lHiCVpMz",
        "colab_type": "code",
        "colab": {}
      },
      "source": [
        "#years = df['year'].unique()"
      ],
      "execution_count": null,
      "outputs": []
    },
    {
      "cell_type": "code",
      "metadata": {
        "id": "lHUE_2K4rAIO",
        "colab_type": "code",
        "colab": {
          "base_uri": "https://localhost:8080/",
          "height": 544
        },
        "outputId": "839d2b97-6fee-4f8c-8a26-aba0edd573f4"
      },
      "source": [
        "#alocando todos os anos do registro em uma lista\n",
        "years = []\n",
        "\n",
        "for i in df_brasil['year']:\n",
        "  if i not in years:\n",
        "    years.append(i)\n",
        "\n",
        "years"
      ],
      "execution_count": null,
      "outputs": [
        {
          "output_type": "execute_result",
          "data": {
            "text/plain": [
              "[1985,\n",
              " 1986,\n",
              " 1987,\n",
              " 1988,\n",
              " 1989,\n",
              " 1990,\n",
              " 1991,\n",
              " 1992,\n",
              " 1993,\n",
              " 1994,\n",
              " 1995,\n",
              " 1996,\n",
              " 1997,\n",
              " 1998,\n",
              " 1999,\n",
              " 2000,\n",
              " 2001,\n",
              " 2002,\n",
              " 2003,\n",
              " 2004,\n",
              " 2005,\n",
              " 2006,\n",
              " 2007,\n",
              " 2008,\n",
              " 2009,\n",
              " 2010,\n",
              " 2011,\n",
              " 2012,\n",
              " 2013,\n",
              " 2014,\n",
              " 2015]"
            ]
          },
          "metadata": {
            "tags": []
          },
          "execution_count": 11
        }
      ]
    },
    {
      "cell_type": "markdown",
      "metadata": {
        "id": "rebo_dQskPZ0",
        "colab_type": "text"
      },
      "source": [
        "#**Tendência taxa suicidio**\n",
        "\n",
        "##Comparando Brasil e mundo\n",
        "\n",
        "###A melhor forma de comparação é usando a taxa de suicídios de 100k/pop, pois em termos absolutos com o crescimento e as diferenças populacionais os resultados poderiam ser enganadores."
      ]
    },
    {
      "cell_type": "code",
      "metadata": {
        "id": "9PR354QMqyCb",
        "colab_type": "code",
        "colab": {}
      },
      "source": [
        "#media de suicidios por 100k no Brasil\n",
        "suicidio_brasil = df_brasil.groupby('year')['suicides/100k pop'].mean()"
      ],
      "execution_count": null,
      "outputs": []
    },
    {
      "cell_type": "code",
      "metadata": {
        "colab_type": "code",
        "id": "b3NkBJlJ9v3o",
        "colab": {}
      },
      "source": [
        "#media de suicidios por 100k no Mundo\n",
        "suicidio_mundo = df.groupby('year')['suicides/100k pop'].mean()"
      ],
      "execution_count": null,
      "outputs": []
    },
    {
      "cell_type": "code",
      "metadata": {
        "id": "taxRbjOjtgX2",
        "colab_type": "code",
        "colab": {}
      },
      "source": [
        "#removendo o ultimo valor de suicidio_mundo para igualar aos dados do Brasil\n",
        "suicidio_mundo.drop(2016, inplace=True)"
      ],
      "execution_count": null,
      "outputs": []
    },
    {
      "cell_type": "code",
      "metadata": {
        "id": "QHdKx40Nrp-2",
        "colab_type": "code",
        "colab": {
          "base_uri": "https://localhost:8080/",
          "height": 281
        },
        "outputId": "0aa03d68-00ce-4c44-d93d-424d6e69754f"
      },
      "source": [
        "#Exibir comparação da Taxa de suicidio Brasil e Mundo\n",
        "plt.plot(years, suicidio_brasil, label=\"brasil\")\n",
        "plt.plot(years, suicidio_mundo, label=\"mundo\")\n",
        "\n",
        "plt.title(\"Taxa de suicidio por 100k habitantes\")\n",
        "plt.legend()\n",
        "plt.show()"
      ],
      "execution_count": null,
      "outputs": [
        {
          "output_type": "display_data",
          "data": {
            "image/png": "[encoded data removed]",
            "text/plain": [
              "<Figure size 432x288 with 1 Axes>"
            ]
          },
          "metadata": {
            "tags": [],
            "needs_background": "light"
          }
        }
      ]
    },
    {
      "cell_type": "markdown",
      "metadata": {
        "id": "MCu6sK6alRhQ",
        "colab_type": "text"
      },
      "source": [
        "###É possível observar de o Brasil e o mundo estão em situações bem diferentes nos últimos anos, em quanto o mundo vem com uma tendência de queda nos ultimo 20 anos, o Brasil está com uma tendencia de crescimento no mesmo período."
      ]
    },
    {
      "cell_type": "markdown",
      "metadata": {
        "id": "zMBrVK8vkbYP",
        "colab_type": "text"
      },
      "source": [
        "#Choque de gerações\n",
        "\n",
        "###A analises histórica é uma ótima forma de aprender com o passado, desse modo, visualizar a média de suicídios por geração se torna totalmente relevante ao presente.\n",
        "\n",
        "###**Boomers:** Nascidos após a Segunda Guerra Mundial. (1946 - 1964)\n",
        "###**G.I. Generation:** Geração da Primeira e Segunda Guerra Mundial. (1900 - 1927)\n",
        "###**Generation X:** Geração após os Boomer, pós-Segunda Guerra Mundial. (1965 - 1980)\n",
        "###**Generation Z:** Geração que corresponde à idealização e nascimento da World Wide Web (1990 - 2010)\n",
        "###**Millenials:** Geração desenvolveu-se numa época de grandes avanços tecnológicos e prosperidade econômica (1981 - 1995)\n",
        "###**Silent:** Geração nascida durante a grande depressão e a segunda guerra mundial (1925 - 1942)"
      ]
    },
    {
      "cell_type": "code",
      "metadata": {
        "id": "sFgE6qH6yMuc",
        "colab_type": "code",
        "colab": {
          "base_uri": "https://localhost:8080/",
          "height": 136
        },
        "outputId": "a18d2ab9-1368-42eb-f55c-1669174c0803"
      },
      "source": [
        "#vizualizando todas as gerações do DataFrame\n",
        "df['generation'].value_counts()"
      ],
      "execution_count": null,
      "outputs": [
        {
          "output_type": "execute_result",
          "data": {
            "text/plain": [
              "Generation X       5638\n",
              "Silent             5382\n",
              "Millenials         4716\n",
              "Boomers            4568\n",
              "G.I. Generation    2251\n",
              "Generation Z        984\n",
              "Name: generation, dtype: int64"
            ]
          },
          "metadata": {
            "tags": []
          },
          "execution_count": 16
        }
      ]
    },
    {
      "cell_type": "code",
      "metadata": {
        "id": "rrgbTONwv-hK",
        "colab_type": "code",
        "colab": {
          "base_uri": "https://localhost:8080/",
          "height": 119
        },
        "outputId": "99ffe0c6-7f5d-45c6-db3a-a243e37eb519"
      },
      "source": [
        "#Taxa anual de suicidios per 100k colocado em um dicionario\n",
        "geracoes = dict(df.groupby('generation')['suicides/100k pop'].mean())\n",
        "geracoes"
      ],
      "execution_count": null,
      "outputs": [
        {
          "output_type": "execute_result",
          "data": {
            "text/plain": [
              "{'Boomers': 16.103995183887907,\n",
              " 'G.I. Generation': 29.19096401599291,\n",
              " 'Generation X': 11.998660872649893,\n",
              " 'Generation Z': 0.9595325203252029,\n",
              " 'Millenials': 6.671276505513148,\n",
              " 'Silent': 21.779552211073955}"
            ]
          },
          "metadata": {
            "tags": []
          },
          "execution_count": 17
        }
      ]
    },
    {
      "cell_type": "code",
      "metadata": {
        "id": "hOzw_FksOPEs",
        "colab_type": "code",
        "colab": {
          "base_uri": "https://localhost:8080/",
          "height": 281
        },
        "outputId": "38effade-f1b8-447b-bedf-4196431291c4"
      },
      "source": [
        "#exibindo o numero de suicidios por geração\n",
        "plt.ticklabel_format(style='plain', axis='x')\n",
        "sns.barplot(list(geracoes.values()), list(geracoes.keys()), palette=\"Blues_d\")\n",
        "plt.title(\"Media de suicidio por geração\")\n",
        "plt.show()"
      ],
      "execution_count": null,
      "outputs": [
        {
          "output_type": "display_data",
          "data": {
            "image/png": "[encoded data removed]",
            "text/plain": [
              "<Figure size 432x288 with 1 Axes>"
            ]
          },
          "metadata": {
            "tags": [],
            "needs_background": "light"
          }
        }
      ]
    },
    {
      "cell_type": "markdown",
      "metadata": {
        "id": "lQThRtzbtSlp",
        "colab_type": "text"
      },
      "source": [
        "###É evidente a grande diferença da taxa de suicídio entre as gerações, as três primeiras gerações são frutos de momentos históricos bastantes complicados como a Grande Depressão e duas Guerras Mundias, mostrando que há uma correlação entre as dificuldades sociais com a taxa de suicídio. "
      ]
    },
    {
      "cell_type": "markdown",
      "metadata": {
        "id": "wp682VmTke7V",
        "colab_type": "text"
      },
      "source": [
        "#Taxa de suicídio entre homens e mulheres\n",
        "###Uma comparação entre a taxa de suicídios entre homens e mulheres e extremamente relevante para tentar entender o problema. "
      ]
    },
    {
      "cell_type": "code",
      "metadata": {
        "id": "qQODBUN5y3Pw",
        "colab_type": "code",
        "colab": {}
      },
      "source": [
        "##taxa de suicidios no Mundo por sexo\n",
        "sexo_mundo = dict(df.groupby('sex')['suicides/100k pop'].mean())\n",
        "feminino_mundo = sexo_mundo['female']\n",
        "masculino_mundo = sexo_mundo['male']"
      ],
      "execution_count": null,
      "outputs": []
    },
    {
      "cell_type": "code",
      "metadata": {
        "id": "NfCF0wnM901j",
        "colab_type": "code",
        "colab": {}
      },
      "source": [
        "##taxa de suicidios no Brasil por sexo\n",
        "sexo_brasil = dict(df_brasil.groupby('sex')['suicides/100k pop'].mean())\n",
        "feminino_brasil = sexo_brasil['female']\n",
        "masculino_brasil = sexo_brasil['male']"
      ],
      "execution_count": null,
      "outputs": []
    },
    {
      "cell_type": "code",
      "metadata": {
        "id": "WtDIvfwe-orW",
        "colab_type": "code",
        "colab": {}
      },
      "source": [
        "#dados a serem plotados\n",
        "labels = ['Feminino', 'Masculino']\n",
        "brasil = [feminino_brasil, masculino_brasil]\n",
        "mundo = [feminino_mundo, masculino_mundo]"
      ],
      "execution_count": null,
      "outputs": []
    },
    {
      "cell_type": "code",
      "metadata": {
        "id": "9xRvXW1j_hoL",
        "colab_type": "code",
        "colab": {}
      },
      "source": [
        "#ajustes para construir o grafico\n",
        "x = np.arange(len(labels))\n",
        "width_bar = 0.35\n",
        "\n",
        "cor_brasil = \"#253760\"\n",
        "cor_mundo = \"#CFCDCE\""
      ],
      "execution_count": null,
      "outputs": []
    },
    {
      "cell_type": "code",
      "metadata": {
        "id": "y8okAeNv_HGK",
        "colab_type": "code",
        "colab": {
          "base_uri": "https://localhost:8080/",
          "height": 289
        },
        "outputId": "5bfdd8c5-8950-4fe5-fc35-daa226663ca0"
      },
      "source": [
        "#cria uma figura para grafico de barras\n",
        "fig, ax = plt.subplots(figsize=(8, 4))\n",
        "\n",
        "#plotar antes e depois separados\n",
        "grafico1 = ax.bar(x - width_bar/2, brasil, width_bar, label='Brasil', color = cor_brasil)\n",
        "grafico2 = ax.bar(x + width_bar/2, mundo, width_bar, label='Mundo', color = cor_mundo)\n",
        "\n",
        "# # remover grids e eixos\n",
        "ax.spines['right'].set_visible(False)\n",
        "ax.spines['left'].set_visible(False)\n",
        "ax.spines['top'].set_visible(False)\n",
        "ax.spines['bottom'].set_visible(False)\n",
        "\n",
        "# # remover eixo y\n",
        "plt.gca().axes.get_yaxis().set_visible(False)\n",
        "\n",
        "# # remover xticks do eixo x\n",
        "plt.tick_params(\n",
        "    axis='both',         \n",
        "    which='both',     \n",
        "    bottom=False,      \n",
        "    top=False,         \n",
        "    labelbottom=True) \n",
        "\n",
        "#criar função para dar labels automaticamente\n",
        "def autolabel(rects):\n",
        "    for rect in rects:\n",
        "        height = rect.get_height()\n",
        "        ax.annotate(\n",
        "                    '{0:.5}'.format(height),\n",
        "                    xy=(rect.get_x() + rect.get_width()/2,  height),\n",
        "                    xytext=(0, -20),  # offset\n",
        "                    textcoords=\"offset points\",\n",
        "                    ha='center',\n",
        "                    va='bottom',\n",
        "                    fontsize=10,\n",
        "                    color=\"white\",\n",
        "                    )\n",
        "        \n",
        "# plotar labels dentro das barras\n",
        "autolabel(grafico1)\n",
        "autolabel(grafico2)\n",
        "\n",
        "# plotar título\n",
        "plt.text(-0.35, 30, 'Média de suicidio por sexo',\n",
        "         fontsize=16, \n",
        "         color=\"#787878\",\n",
        "         weight='bold')\n",
        "\n",
        "# plotar subtitulo\n",
        "plt.text(-0.35, 29,\n",
        "         \"A média de suicídios\\n\"\n",
        "         \"por sexo no Brasil e no Mundo\",\n",
        "         verticalalignment=\"top\",\n",
        "         fontsize=14,\n",
        "         color=\"#787878\")\n",
        "\n",
        "# labels do eixo\n",
        "x = np.arange(len(labels))\n",
        "ax.set_xticks(x)\n",
        "ax.set_xticklabels(labels)\n",
        "\n",
        "# título\n",
        "#ax.set_title('Ocorrencias totais')\n",
        "\n",
        "# legenda\n",
        "ax.legend()\n",
        "\n",
        "# plotar gráfico\n",
        "fig.tight_layout()\n",
        "plt.show()"
      ],
      "execution_count": null,
      "outputs": [
        {
          "output_type": "display_data",
          "data": {
            "image/png": "[encoded data removed]",
            "text/plain": [
              "<Figure size 576x288 with 1 Axes>"
            ]
          },
          "metadata": {
            "tags": [],
            "needs_background": "light"
          }
        }
      ]
    },
    {
      "cell_type": "markdown",
      "metadata": {
        "id": "I_FjIqM1suqC",
        "colab_type": "text"
      },
      "source": [
        "###Fica claro a grande diferença de mortes entre os sexos, o que pode ser um fator importante na diferença entre gêneros nos registros de violência auto provocada é os homens em média “falam menos” sobre seus problemas de saúde podendo agravar a situação de quem está passando por maus momentos."
      ]
    },
    {
      "cell_type": "markdown",
      "metadata": {
        "id": "pM0IvCdfkkVp",
        "colab_type": "text"
      },
      "source": [
        "#Taxa por faixa etária\n",
        "## Comparando as taxas de suicídio no Brasil e no mundo pela faixa etária."
      ]
    },
    {
      "cell_type": "code",
      "metadata": {
        "id": "KT-mofvQm7Ah",
        "colab_type": "code",
        "colab": {}
      },
      "source": [
        "#taxa de suicidio por faixa etaria\n",
        "labels = ['15-24 years', '25-34 years', '35-54 years', '5-14 years', '55-74 years', '75+ years']\n",
        "idades_mundo = list(df.groupby('age')['suicides/100k pop'].mean())\n",
        "idades_brasil = list(df_brasil.groupby('age')['suicides/100k pop'].mean())"
      ],
      "execution_count": null,
      "outputs": []
    },
    {
      "cell_type": "code",
      "metadata": {
        "id": "w8j5CjXgL50X",
        "colab_type": "code",
        "colab": {}
      },
      "source": [
        "\n",
        "#ajustes para construir o grafico\n",
        "x = np.arange(len(labels))\n",
        "width_bar = 0.35\n",
        "\n",
        "cor_brasil = \"#253760\"\n",
        "cor_mundo = \"#CFCDCE\""
      ],
      "execution_count": null,
      "outputs": []
    },
    {
      "cell_type": "code",
      "metadata": {
        "id": "wcEcN0_ZL1Vj",
        "colab_type": "code",
        "colab": {
          "base_uri": "https://localhost:8080/",
          "height": 286
        },
        "outputId": "fc234c65-7771-499d-d005-e968b22f7819"
      },
      "source": [
        "#cria uma figura para grafico de barras\n",
        "fig, ax = plt.subplots(figsize=(8, 4))\n",
        "\n",
        "#plotar antes e depois separados\n",
        "grafico1 = ax.bar(x - width_bar/2, idades_brasil, width_bar, label='Brasil', color = cor_brasil)\n",
        "grafico2 = ax.bar(x + width_bar/2, idades_mundo, width_bar, label='Mundo', color = cor_mundo)\n",
        "\n",
        "# # remover grids e eixos\n",
        "ax.spines['right'].set_visible(False)\n",
        "ax.spines['left'].set_visible(False)\n",
        "ax.spines['top'].set_visible(False)\n",
        "ax.spines['bottom'].set_visible(False)\n",
        "\n",
        "# # remover eixo y\n",
        "plt.gca().axes.get_yaxis().set_visible(False)\n",
        "\n",
        "# # remover xticks do eixo x\n",
        "plt.tick_params(\n",
        "    axis='both',         \n",
        "    which='both',     \n",
        "    bottom=False,      \n",
        "    top=False,         \n",
        "    labelbottom=True) \n",
        "\n",
        "#criar função para dar labels automaticamente\n",
        "def autolabel(rects):\n",
        "    for rect in rects:\n",
        "        height = rect.get_height()\n",
        "        ax.annotate(\n",
        "                    '{0:.3}'.format(height),\n",
        "                    xy=(rect.get_x() + rect.get_width()/2,  height),\n",
        "                    xytext=(0, -20),  # offset\n",
        "                    textcoords=\"offset points\",\n",
        "                    ha='center',\n",
        "                    va='bottom',\n",
        "                    fontsize=10,\n",
        "                    color=\"white\",\n",
        "                    )\n",
        "        \n",
        "# plotar labels dentro das barras\n",
        "autolabel(grafico1)\n",
        "autolabel(grafico2)\n",
        "\n",
        "# plotar título\n",
        "plt.text(-0.35, 40, 'Taxa de suicídio por idade',\n",
        "         fontsize=16, \n",
        "         color=\"#787878\",\n",
        "         weight='bold')\n",
        "\n",
        "# plotar subtitulo\n",
        "plt.text(-0.35, 38,\n",
        "         \"A taxa média de suicídios\\n\"\n",
        "         \"por faixa etária no Brasil e no Mundo\",\n",
        "         verticalalignment=\"top\",\n",
        "         fontsize=14,\n",
        "         color=\"#787878\")\n",
        "\n",
        "# labels do eixo\n",
        "x = np.arange(len(labels))\n",
        "ax.set_xticks(x)\n",
        "ax.set_xticklabels(labels)\n",
        "\n",
        "# título\n",
        "#ax.set_title('Ocorrencias totais')\n",
        "\n",
        "# legenda\n",
        "ax.legend()\n",
        "\n",
        "# plotar gráfico\n",
        "fig.tight_layout()\n",
        "plt.show()"
      ],
      "execution_count": null,
      "outputs": [
        {
          "output_type": "display_data",
          "data": {
            "image/png": "[encoded data removed]",
            "text/plain": [
              "<Figure size 576x288 with 1 Axes>"
            ]
          },
          "metadata": {
            "tags": [],
            "needs_background": "light"
          }
        }
      ]
    },
    {
      "cell_type": "markdown",
      "metadata": {
        "id": "0Gth2jUxpHG3",
        "colab_type": "text"
      },
      "source": [
        "###O principal objetivo é visualizar qual faixa etária tem a maior taxa de suicídios e a diferença entre o Brasil e o Mundo.\n",
        "###A faixa etária com a maior taxa é a de +75 anos, tanto no Brasil quanto no Mundo, podemos  considerar que a terceira idade é um momento de vulnerabilidade, abrir mão da saúde, da autonomia e dos papéis ativos na sociedade pode influenciar bastante nessa alta taxa."
      ]
    },
    {
      "cell_type": "markdown",
      "metadata": {
        "id": "iuF611lAqPXr",
        "colab_type": "text"
      },
      "source": [
        "#Maiores e menores médias\n",
        "###Com a visualização dos países com as maiores taxas de suicídios, podemos notar uma grande concentração de países do Leste Europeu. "
      ]
    },
    {
      "cell_type": "code",
      "metadata": {
        "id": "DSqEsx1gj6iM",
        "colab_type": "code",
        "colab": {
          "base_uri": "https://localhost:8080/",
          "height": 265
        },
        "outputId": "08b8a33b-b78c-44f1-ef67-9abf9a5a611b"
      },
      "source": [
        "#Plotando países com maiores taxas médias de suicidios\n",
        "maiores_medias = dict(df.groupby('country')['suicides/100k pop'].mean().nlargest(10))\n",
        "sns.barplot(list(maiores_medias.values()), list(maiores_medias.keys()), palette=\"Blues_d\")\n",
        "plt.show()"
      ],
      "execution_count": null,
      "outputs": [
        {
          "output_type": "display_data",
          "data": {
            "image/png": "[encoded data removed]",
            "text/plain": [
              "<Figure size 432x288 with 1 Axes>"
            ]
          },
          "metadata": {
            "tags": [],
            "needs_background": "light"
          }
        }
      ]
    },
    {
      "cell_type": "code",
      "metadata": {
        "id": "AR5pLhuHOquK",
        "colab_type": "code",
        "colab": {
          "base_uri": "https://localhost:8080/",
          "height": 265
        },
        "outputId": "f9f400fe-1673-49bc-e4c9-2f4379ea5a14"
      },
      "source": [
        "#Plotando países com menores taxas de suicidios\n",
        "menores_medias = dict(df.groupby('country')['suicides/100k pop'].mean().dropna().nsmallest(10))\n",
        "sns.barplot(list(menores_medias.values()) , list(menores_medias.keys()), palette=\"Blues_d\")\n",
        "plt.show()"
      ],
      "execution_count": null,
      "outputs": [
        {
          "output_type": "display_data",
          "data": {
            "image/png": "[encoded data removed]",
            "text/plain": [
              "<Figure size 432x288 with 1 Axes>"
            ]
          },
          "metadata": {
            "tags": [],
            "needs_background": "light"
          }
        }
      ]
    },
    {
      "cell_type": "markdown",
      "metadata": {
        "id": "fR3kic49UMW7",
        "colab_type": "text"
      },
      "source": [
        "###Já em relação as menores taxas, é curioso o fato de nem um país desenvolvido estar entre os 10 primeiros, o que pôde ter influenciado esse fato, é que em suma maioria os países com as menores taxas tem uma relação estreita com a democracia de fato, o que acaba dificultando na confiabilidade dos dados."
      ]
    }
  ]
}